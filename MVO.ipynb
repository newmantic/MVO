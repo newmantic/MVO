{
  "nbformat": 4,
  "nbformat_minor": 0,
  "metadata": {
    "colab": {
      "provenance": [],
      "authorship_tag": "ABX9TyM/d5x1hVu39s7/HtC1Cc5m",
      "include_colab_link": true
    },
    "kernelspec": {
      "name": "python3",
      "display_name": "Python 3"
    },
    "language_info": {
      "name": "python"
    }
  },
  "cells": [
    {
      "cell_type": "markdown",
      "metadata": {
        "id": "view-in-github",
        "colab_type": "text"
      },
      "source": [
        "<a href=\"https://colab.research.google.com/github/newmantic/MVO/blob/main/MVO.ipynb\" target=\"_parent\"><img src=\"https://colab.research.google.com/assets/colab-badge.svg\" alt=\"Open In Colab\"/></a>"
      ]
    },
    {
      "cell_type": "code",
      "execution_count": 1,
      "metadata": {
        "id": "JxEw6AxgtC80"
      },
      "outputs": [],
      "source": [
        "import numpy as np\n",
        "from scipy.optimize import minimize\n",
        "\n",
        "def calculate_portfolio_return(weights: np.ndarray, returns: np.ndarray) -> float:\n",
        "    \"\"\"\n",
        "    Calculate the expected return of the portfolio.\n",
        "\n",
        "    Args:\n",
        "    weights (np.ndarray): Array of portfolio weights.\n",
        "    returns (np.ndarray): Array of expected returns for each asset.\n",
        "\n",
        "    Returns:\n",
        "    float: Expected portfolio return.\n",
        "    \"\"\"\n",
        "    return np.dot(weights, returns)\n",
        "\n",
        "def calculate_portfolio_variance(weights: np.ndarray, covariance_matrix: np.ndarray) -> float:\n",
        "    \"\"\"\n",
        "    Calculate the variance of the portfolio.\n",
        "\n",
        "    Args:\n",
        "    weights (np.ndarray): Array of portfolio weights.\n",
        "    covariance_matrix (np.ndarray): Covariance matrix of asset returns.\n",
        "\n",
        "    Returns:\n",
        "    float: Portfolio variance.\n",
        "    \"\"\"\n",
        "    return np.dot(weights.T, np.dot(covariance_matrix, weights))\n",
        "\n",
        "def calculate_sharpe_ratio(weights: np.ndarray, returns: np.ndarray, covariance_matrix: np.ndarray, risk_free_rate: float) -> float:\n",
        "    \"\"\"\n",
        "    Calculate the Sharpe Ratio of the portfolio.\n",
        "\n",
        "    Args:\n",
        "    weights (np.ndarray): Array of portfolio weights.\n",
        "    returns (np.ndarray): Array of expected returns for each asset.\n",
        "    covariance_matrix (np.ndarray): Covariance matrix of asset returns.\n",
        "    risk_free_rate (float): Risk-free rate.\n",
        "\n",
        "    Returns:\n",
        "    float: Sharpe Ratio of the portfolio.\n",
        "    \"\"\"\n",
        "    portfolio_return = calculate_portfolio_return(weights, returns)\n",
        "    portfolio_variance = calculate_portfolio_variance(weights, covariance_matrix)\n",
        "    portfolio_std_dev = np.sqrt(portfolio_variance)\n",
        "    return (portfolio_return - risk_free_rate) / portfolio_std_dev\n",
        "\n",
        "def optimize_portfolio_weights(returns: np.ndarray, covariance_matrix: np.ndarray, risk_free_rate: float, target_return: float = None) -> np.ndarray:\n",
        "    \"\"\"\n",
        "    Optimize the portfolio weights to maximize the Sharpe Ratio or minimize variance for a given target return.\n",
        "\n",
        "    Args:\n",
        "    returns (np.ndarray): Array of expected returns for each asset.\n",
        "    covariance_matrix (np.ndarray): Covariance matrix of asset returns.\n",
        "    risk_free_rate (float): Risk-free rate.\n",
        "    target_return (float): Target portfolio return (if None, optimize for maximum Sharpe Ratio).\n",
        "\n",
        "    Returns:\n",
        "    np.ndarray: Optimized portfolio weights.\n",
        "    \"\"\"\n",
        "    num_assets = len(returns)\n",
        "\n",
        "    def portfolio_variance(weights):\n",
        "        return calculate_portfolio_variance(weights, covariance_matrix)\n",
        "\n",
        "    def constraint_sum_weights(weights):\n",
        "        return np.sum(weights) - 1.0\n",
        "\n",
        "    if target_return is not None:\n",
        "        def constraint_target_return(weights):\n",
        "            return calculate_portfolio_return(weights, returns) - target_return\n",
        "        constraints = [{'type': 'eq', 'fun': constraint_sum_weights},\n",
        "                       {'type': 'eq', 'fun': constraint_target_return}]\n",
        "    else:\n",
        "        def negative_sharpe_ratio(weights):\n",
        "            return -calculate_sharpe_ratio(weights, returns, covariance_matrix, risk_free_rate)\n",
        "        constraints = [{'type': 'eq', 'fun': constraint_sum_weights}]\n",
        "\n",
        "    bounds = [(0.0, 1.0) for _ in range(num_assets)]\n",
        "    initial_weights = np.ones(num_assets) / num_assets\n",
        "\n",
        "    if target_return is not None:\n",
        "        result = minimize(portfolio_variance, initial_weights, method='SLSQP', bounds=bounds, constraints=constraints)\n",
        "    else:\n",
        "        result = minimize(negative_sharpe_ratio, initial_weights, method='SLSQP', bounds=bounds, constraints=constraints)\n",
        "\n",
        "    return result.x"
      ]
    },
    {
      "cell_type": "code",
      "source": [
        "# Test Data\n",
        "expected_returns = np.array([0.05, 0.07, 0.06])  # Expected returns for each asset\n",
        "covariance_matrix = np.array([[0.001, 0.0008, 0.0002],\n",
        "                              [0.0008, 0.002, 0.0004],\n",
        "                              [0.0002, 0.0004, 0.001]])  # Covariance matrix of returns\n",
        "risk_free_rate = 0.02\n",
        "\n",
        "# Test case 1: Calculate Portfolio Return\n",
        "weights = np.array([0.4, 0.4, 0.2])\n",
        "portfolio_return = calculate_portfolio_return(weights, expected_returns)\n",
        "print(f\"Portfolio Return: {portfolio_return:.4f}\")  # Expected: Weighted sum of returns\n",
        "\n",
        "# Test case 2: Calculate Portfolio Variance\n",
        "portfolio_variance = calculate_portfolio_variance(weights, covariance_matrix)\n",
        "print(f\"Portfolio Variance: {portfolio_variance:.6f}\")  # Expected: Variance of portfolio\n",
        "\n",
        "# Test case 3: Calculate Sharpe Ratio\n",
        "sharpe_ratio = calculate_sharpe_ratio(weights, expected_returns, covariance_matrix, risk_free_rate)\n",
        "print(f\"Sharpe Ratio: {sharpe_ratio:.4f}\")  # Expected: Sharpe Ratio of portfolio\n",
        "\n",
        "# Test case 4: Optimize Portfolio Weights for Maximum Sharpe Ratio\n",
        "optimal_weights = optimize_portfolio_weights(expected_returns, covariance_matrix, risk_free_rate)\n",
        "print(f\"Optimized Weights for Maximum Sharpe Ratio: {optimal_weights}\")  # Expected: Array of optimal weights\n",
        "\n",
        "# Test case 5: Optimize Portfolio Weights for Target Return\n",
        "target_return = 0.065\n",
        "optimal_weights_target_return = optimize_portfolio_weights(expected_returns, covariance_matrix, risk_free_rate, target_return)\n",
        "print(f\"Optimized Weights for Target Return {target_return}: {optimal_weights_target_return}\")  # Expected: Array of optimal weights for target return"
      ],
      "metadata": {
        "colab": {
          "base_uri": "https://localhost:8080/"
        },
        "id": "RuK88y7wufKQ",
        "outputId": "da1fe6ae-8b79-48a5-fad1-7ffc6c3dc679"
      },
      "execution_count": 2,
      "outputs": [
        {
          "output_type": "stream",
          "name": "stdout",
          "text": [
            "Portfolio Return: 0.0600\n",
            "Portfolio Variance: 0.000872\n",
            "Sharpe Ratio: 1.3546\n",
            "Optimized Weights for Maximum Sharpe Ratio: [0.21951693 0.23072551 0.54975756]\n",
            "Optimized Weights for Target Return 0.065: [0.08311111 0.58311112 0.33377778]\n"
          ]
        }
      ]
    }
  ]
}